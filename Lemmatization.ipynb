{
 "cells": [
  {
   "cell_type": "markdown",
   "id": "28afb35d-a78c-4634-abc3-f86f419dffc5",
   "metadata": {},
   "source": [
    "## Lemmatization"
   ]
  },
  {
   "cell_type": "code",
   "execution_count": 1,
   "id": "b304260f-1191-4f69-a91e-e9613ee8f95d",
   "metadata": {},
   "outputs": [],
   "source": [
    "### The concept of lemmatization is same as the stemming, the output after processing lemmatization are\n",
    "## called as 'lemma'. rather than word stem  its a word root in lemmatization."
   ]
  },
  {
   "cell_type": "code",
   "execution_count": 10,
   "id": "0312749b-fd44-4b8b-beaa-8f33f178bb21",
   "metadata": {},
   "outputs": [
    {
     "name": "stderr",
     "output_type": "stream",
     "text": [
      "[nltk_data] Downloading package wordnet to\n",
      "[nltk_data]     C:\\Users\\Lenovo\\AppData\\Roaming\\nltk_data...\n"
     ]
    },
    {
     "data": {
      "text/plain": [
       "True"
      ]
     },
     "execution_count": 10,
     "metadata": {},
     "output_type": "execute_result"
    }
   ],
   "source": [
    "import nltk\n",
    "nltk.download('wordnet')   # important to download for wordnetlemmatizer"
   ]
  },
  {
   "cell_type": "markdown",
   "id": "b3f2ec91-b46c-4cd1-b6af-e2a93ec49ae9",
   "metadata": {},
   "source": [
    "## WordNet Lemmatizer"
   ]
  },
  {
   "cell_type": "code",
   "execution_count": 11,
   "id": "ab1d6ecd-88ba-4404-83a8-43099a91e800",
   "metadata": {},
   "outputs": [],
   "source": [
    "from nltk.stem import WordNetLemmatizer"
   ]
  },
  {
   "cell_type": "code",
   "execution_count": 12,
   "id": "4f1358a2-53ba-4af1-8151-ac792e07706c",
   "metadata": {},
   "outputs": [],
   "source": [
    "lemmatizer = WordNetLemmatizer()"
   ]
  },
  {
   "cell_type": "code",
   "execution_count": 14,
   "id": "462b1780-4dbc-441e-8963-8c068d6a1158",
   "metadata": {},
   "outputs": [
    {
     "data": {
      "text/plain": [
       "'go'"
      ]
     },
     "execution_count": 14,
     "metadata": {},
     "output_type": "execute_result"
    }
   ],
   "source": [
    "'''\n",
    "POS noun - n\n",
    "    verb - v\n",
    "    adverb - r\n",
    "    adjective - a\n",
    "    select according to the imputed word\n",
    "'''\n",
    "\n",
    "lemmatizer.lemmatize(\"going\", pos='v')"
   ]
  },
  {
   "cell_type": "code",
   "execution_count": 15,
   "id": "1f4dade0-43e2-49d1-a75b-a6a075b68cbf",
   "metadata": {},
   "outputs": [],
   "source": [
    "words = ['eaten', 'eating', 'eats', 'writing', 'writes', 'programming', 'programms', \n",
    "         'smiles', 'smiled']"
   ]
  },
  {
   "cell_type": "code",
   "execution_count": 17,
   "id": "9ec77d31-2dff-4b4e-ae82-1c727ffec624",
   "metadata": {},
   "outputs": [
    {
     "name": "stdout",
     "output_type": "stream",
     "text": [
      "eaten---->eat\n",
      "eating---->eat\n",
      "eats---->eat\n",
      "writing---->write\n",
      "writes---->write\n",
      "programming---->program\n",
      "programms---->programms\n",
      "smiles---->smile\n",
      "smiled---->smile\n"
     ]
    }
   ],
   "source": [
    "for word in words:\n",
    "    print(word+\"---->\"+lemmatizer.lemmatize(word, pos='v'))"
   ]
  },
  {
   "cell_type": "code",
   "execution_count": 18,
   "id": "17d643de-5704-4605-b59e-94819befb62f",
   "metadata": {},
   "outputs": [
    {
     "data": {
      "text/plain": [
       "'go'"
      ]
     },
     "execution_count": 18,
     "metadata": {},
     "output_type": "execute_result"
    }
   ],
   "source": [
    "lemmatizer.lemmatize('goes')"
   ]
  },
  {
   "cell_type": "code",
   "execution_count": 22,
   "id": "e6418655-e292-46b3-8c98-274169cb0c97",
   "metadata": {},
   "outputs": [
    {
     "data": {
      "text/plain": [
       "'fairly'"
      ]
     },
     "execution_count": 22,
     "metadata": {},
     "output_type": "execute_result"
    }
   ],
   "source": [
    "lemmatizer.lemmatize('fairly', pos='a')"
   ]
  }
 ],
 "metadata": {
  "kernelspec": {
   "display_name": "Python 3 (ipykernel)",
   "language": "python",
   "name": "python3"
  },
  "language_info": {
   "codemirror_mode": {
    "name": "ipython",
    "version": 3
   },
   "file_extension": ".py",
   "mimetype": "text/x-python",
   "name": "python",
   "nbconvert_exporter": "python",
   "pygments_lexer": "ipython3",
   "version": "3.13.1"
  }
 },
 "nbformat": 4,
 "nbformat_minor": 5
}
