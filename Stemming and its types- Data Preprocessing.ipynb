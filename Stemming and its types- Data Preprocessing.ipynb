{
 "cells": [
  {
   "cell_type": "markdown",
   "id": "32ec954a-1f09-444e-b6b7-65ab05494600",
   "metadata": {},
   "source": [
    "## PorterStemmer"
   ]
  },
  {
   "cell_type": "code",
   "execution_count": null,
   "id": "5282d709-52ad-4414-96f3-22acb3059282",
   "metadata": {},
   "outputs": [],
   "source": [
    "## Stemming - make root word from the sufix or prefix joined words"
   ]
  },
  {
   "cell_type": "code",
   "execution_count": 3,
   "id": "d5c217ff-4ccc-4c31-8fd2-29772415b977",
   "metadata": {},
   "outputs": [],
   "source": [
    "words = ['eaten', 'eating', 'eats', 'writing', 'writes', 'programming', 'programms', \n",
    "         'smiles', 'smiled']"
   ]
  },
  {
   "cell_type": "code",
   "execution_count": 4,
   "id": "18368fac-a052-4b79-98f8-128d75f4e62a",
   "metadata": {},
   "outputs": [],
   "source": [
    "from nltk.stem import PorterStemmer"
   ]
  },
  {
   "cell_type": "code",
   "execution_count": 5,
   "id": "dacc1577-7416-4d30-99ea-56d15c112d87",
   "metadata": {},
   "outputs": [],
   "source": [
    "stemming = PorterStemmer()"
   ]
  },
  {
   "cell_type": "code",
   "execution_count": 6,
   "id": "34ef31db-3eb4-45bb-a432-595fd17a0ff5",
   "metadata": {},
   "outputs": [
    {
     "name": "stdout",
     "output_type": "stream",
     "text": [
      "eaten----->eaten\n",
      "eating----->eat\n",
      "eats----->eat\n",
      "writing----->write\n",
      "writes----->write\n",
      "programming----->program\n",
      "programms----->programm\n",
      "smiles----->smile\n",
      "smiled----->smile\n"
     ]
    }
   ],
   "source": [
    "for word in words:\n",
    "    print(word+ \"----->\"+stemming.stem(word))"
   ]
  },
  {
   "cell_type": "code",
   "execution_count": 7,
   "id": "8b7e5321-1e0a-4fab-bcb1-6f4fbc8cd575",
   "metadata": {},
   "outputs": [
    {
     "data": {
      "text/plain": [
       "'congratul'"
      ]
     },
     "execution_count": 7,
     "metadata": {},
     "output_type": "execute_result"
    }
   ],
   "source": [
    "stemming.stem('congratulations')"
   ]
  },
  {
   "cell_type": "code",
   "execution_count": 8,
   "id": "281cf342-4d9e-4b63-aae1-23a079c9cb16",
   "metadata": {},
   "outputs": [
    {
     "data": {
      "text/plain": [
       "'sit'"
      ]
     },
     "execution_count": 8,
     "metadata": {},
     "output_type": "execute_result"
    }
   ],
   "source": [
    "stemming.stem('sitting')"
   ]
  },
  {
   "cell_type": "markdown",
   "id": "3786ae97-79d4-493a-bb85-29108017e158",
   "metadata": {},
   "source": [
    "## RegexpStemmer"
   ]
  },
  {
   "cell_type": "code",
   "execution_count": 9,
   "id": "d81649df-4d09-4a64-86ce-6fa342f58268",
   "metadata": {},
   "outputs": [],
   "source": [
    "from nltk.stem import RegexpStemmer"
   ]
  },
  {
   "cell_type": "code",
   "execution_count": 10,
   "id": "5adcafe7-f944-4bb2-b677-c2d166a36edd",
   "metadata": {},
   "outputs": [],
   "source": [
    "reg_stemmer = RegexpStemmer('ing$|s$|e$|able$', min=4)"
   ]
  },
  {
   "cell_type": "code",
   "execution_count": 13,
   "id": "e1024dcb-0178-4598-b246-6f561f366641",
   "metadata": {},
   "outputs": [
    {
     "data": {
      "text/plain": [
       "'laugh'"
      ]
     },
     "execution_count": 13,
     "metadata": {},
     "output_type": "execute_result"
    }
   ],
   "source": [
    "reg_stemmer.stem('laughing')"
   ]
  },
  {
   "cell_type": "code",
   "execution_count": 14,
   "id": "b8103327-085b-47ca-83cb-f41d13dde50e",
   "metadata": {},
   "outputs": [
    {
     "data": {
      "text/plain": [
       "'inglaugh'"
      ]
     },
     "execution_count": 14,
     "metadata": {},
     "output_type": "execute_result"
    }
   ],
   "source": [
    "reg_stemmer.stem('inglaughing')"
   ]
  },
  {
   "cell_type": "markdown",
   "id": "5461a1cc-16fb-4071-aac2-90e8277e3b78",
   "metadata": {},
   "source": [
    "## Snowball Stemmer"
   ]
  },
  {
   "cell_type": "code",
   "execution_count": 15,
   "id": "e0674d6c-8a7f-4280-a63b-530d6689b32a",
   "metadata": {},
   "outputs": [],
   "source": [
    "from nltk.stem import SnowballStemmer"
   ]
  },
  {
   "cell_type": "code",
   "execution_count": 16,
   "id": "fb718274-7038-4217-8373-c8299a258096",
   "metadata": {},
   "outputs": [],
   "source": [
    "snowballstemmer = SnowballStemmer('english')"
   ]
  },
  {
   "cell_type": "code",
   "execution_count": 18,
   "id": "6dd87fcb-a874-4000-93b2-b106e4099e7c",
   "metadata": {},
   "outputs": [
    {
     "name": "stdout",
     "output_type": "stream",
     "text": [
      "eaten------>eaten\n",
      "eating------>eat\n",
      "eats------>eat\n",
      "writing------>write\n",
      "writes------>write\n",
      "programming------>program\n",
      "programms------>programm\n",
      "smiles------>smile\n",
      "smiled------>smile\n"
     ]
    }
   ],
   "source": [
    "for word in words:\n",
    "    print(word+\"------>\"+snowballstemmer.stem(word))"
   ]
  },
  {
   "cell_type": "code",
   "execution_count": 19,
   "id": "e3a98015-9045-44a3-ad79-ec8a299e6e4c",
   "metadata": {},
   "outputs": [
    {
     "data": {
      "text/plain": [
       "('fairli', 'sportingli')"
      ]
     },
     "execution_count": 19,
     "metadata": {},
     "output_type": "execute_result"
    }
   ],
   "source": [
    "stemming.stem('fairly'), stemming.stem('sportingly')"
   ]
  },
  {
   "cell_type": "code",
   "execution_count": 21,
   "id": "2a70a8eb-28fb-4fd4-8e66-1f93c5ba2f5a",
   "metadata": {},
   "outputs": [
    {
     "data": {
      "text/plain": [
       "('fair', 'sport')"
      ]
     },
     "execution_count": 21,
     "metadata": {},
     "output_type": "execute_result"
    }
   ],
   "source": [
    "snowballstemmer.stem('fairly'), snowballstemmer.stem('sportingly')"
   ]
  }
 ],
 "metadata": {
  "kernelspec": {
   "display_name": "Python 3 (ipykernel)",
   "language": "python",
   "name": "python3"
  },
  "language_info": {
   "codemirror_mode": {
    "name": "ipython",
    "version": 3
   },
   "file_extension": ".py",
   "mimetype": "text/x-python",
   "name": "python",
   "nbconvert_exporter": "python",
   "pygments_lexer": "ipython3",
   "version": "3.13.1"
  }
 },
 "nbformat": 4,
 "nbformat_minor": 5
}
