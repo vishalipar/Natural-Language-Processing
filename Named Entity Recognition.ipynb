{
 "cells": [
  {
   "cell_type": "code",
   "execution_count": 12,
   "id": "6fab1587-2288-4cfa-81c8-b2894c364fec",
   "metadata": {},
   "outputs": [],
   "source": [
    "sentence=\"In 1636, Shahaji joined in the service of Bijapur and obtained Poona as a grant. Shahaji, being deployed in Bangalore by the Bijapuri ruler Adilshah, appointed Dadoji Kondadeo as Poona's administrator. Shivaji and Jijabai settled in Poona.[40] Kondadeo died in 1647 and Shivaji took over its administration. One of his first acts directly challenged the Bijapuri government.\""
   ]
  },
  {
   "cell_type": "code",
   "execution_count": null,
   "id": "86719cc1-eb80-4633-8483-b3847a9d0003",
   "metadata": {},
   "outputs": [],
   "source": [
    "# Person :, Place or Location: , Date: , Time:, Money:, Organization:, Percent: ,etc"
   ]
  },
  {
   "cell_type": "code",
   "execution_count": 13,
   "id": "8910db41-180a-42cd-8098-075805dada0d",
   "metadata": {},
   "outputs": [],
   "source": [
    "import nltk\n",
    "words = nltk.word_tokenize(sentence)"
   ]
  },
  {
   "cell_type": "code",
   "execution_count": 14,
   "id": "7b9e2255-6213-44a3-b01f-04a0acd1d1c4",
   "metadata": {},
   "outputs": [
    {
     "data": {
      "text/plain": [
       "['In',\n",
       " '1636',\n",
       " ',',\n",
       " 'Shahaji',\n",
       " 'joined',\n",
       " 'in',\n",
       " 'the',\n",
       " 'service',\n",
       " 'of',\n",
       " 'Bijapur',\n",
       " 'and',\n",
       " 'obtained',\n",
       " 'Poona',\n",
       " 'as',\n",
       " 'a',\n",
       " 'grant',\n",
       " '.',\n",
       " 'Shahaji',\n",
       " ',',\n",
       " 'being',\n",
       " 'deployed',\n",
       " 'in',\n",
       " 'Bangalore',\n",
       " 'by',\n",
       " 'the',\n",
       " 'Bijapuri',\n",
       " 'ruler',\n",
       " 'Adilshah',\n",
       " ',',\n",
       " 'appointed',\n",
       " 'Dadoji',\n",
       " 'Kondadeo',\n",
       " 'as',\n",
       " 'Poona',\n",
       " \"'s\",\n",
       " 'administrator',\n",
       " '.',\n",
       " 'Shivaji',\n",
       " 'and',\n",
       " 'Jijabai',\n",
       " 'settled',\n",
       " 'in',\n",
       " 'Poona',\n",
       " '.',\n",
       " '[',\n",
       " '40',\n",
       " ']',\n",
       " 'Kondadeo',\n",
       " 'died',\n",
       " 'in',\n",
       " '1647',\n",
       " 'and',\n",
       " 'Shivaji',\n",
       " 'took',\n",
       " 'over',\n",
       " 'its',\n",
       " 'administration',\n",
       " '.',\n",
       " 'One',\n",
       " 'of',\n",
       " 'his',\n",
       " 'first',\n",
       " 'acts',\n",
       " 'directly',\n",
       " 'challenged',\n",
       " 'the',\n",
       " 'Bijapuri',\n",
       " 'government',\n",
       " '.']"
      ]
     },
     "execution_count": 14,
     "metadata": {},
     "output_type": "execute_result"
    }
   ],
   "source": [
    "words"
   ]
  },
  {
   "cell_type": "code",
   "execution_count": 15,
   "id": "c88116f4-e0b5-4bed-8ea4-117a9de9f740",
   "metadata": {},
   "outputs": [],
   "source": [
    "tag_elements = nltk.pos_tag(words)"
   ]
  },
  {
   "cell_type": "code",
   "execution_count": 16,
   "id": "01f10936-58db-4d92-a8f4-daea2070e410",
   "metadata": {},
   "outputs": [
    {
     "name": "stderr",
     "output_type": "stream",
     "text": [
      "[nltk_data] Downloading package maxent_ne_chunker_tab to\n",
      "[nltk_data]     C:\\Users\\Lenovo\\AppData\\Roaming\\nltk_data...\n",
      "[nltk_data]   Package maxent_ne_chunker_tab is already up-to-date!\n"
     ]
    },
    {
     "data": {
      "text/plain": [
       "True"
      ]
     },
     "execution_count": 16,
     "metadata": {},
     "output_type": "execute_result"
    }
   ],
   "source": [
    "nltk.download('maxent_ne_chunker_tab')"
   ]
  },
  {
   "cell_type": "code",
   "execution_count": 17,
   "id": "a98f2834-b440-48e3-abaf-683698ba6826",
   "metadata": {},
   "outputs": [
    {
     "name": "stderr",
     "output_type": "stream",
     "text": [
      "[nltk_data] Downloading package words to\n",
      "[nltk_data]     C:\\Users\\Lenovo\\AppData\\Roaming\\nltk_data...\n",
      "[nltk_data]   Package words is already up-to-date!\n"
     ]
    },
    {
     "data": {
      "text/plain": [
       "True"
      ]
     },
     "execution_count": 17,
     "metadata": {},
     "output_type": "execute_result"
    }
   ],
   "source": [
    "nltk.download('words')"
   ]
  },
  {
   "cell_type": "code",
   "execution_count": 19,
   "id": "0e42da76-d55c-4ee5-9ea8-8e338f46bc2c",
   "metadata": {},
   "outputs": [
    {
     "name": "stdout",
     "output_type": "stream",
     "text": [
      "Collecting svgling\n",
      "  Downloading svgling-0.5.0-py3-none-any.whl.metadata (7.4 kB)\n",
      "Collecting svgwrite (from svgling)\n",
      "  Downloading svgwrite-1.4.3-py3-none-any.whl.metadata (8.8 kB)\n",
      "Downloading svgling-0.5.0-py3-none-any.whl (31 kB)\n",
      "Downloading svgwrite-1.4.3-py3-none-any.whl (67 kB)\n",
      "Installing collected packages: svgwrite, svgling\n",
      "Successfully installed svgling-0.5.0 svgwrite-1.4.3\n"
     ]
    },
    {
     "name": "stderr",
     "output_type": "stream",
     "text": [
      "\n",
      "[notice] A new release of pip is available: 25.0.1 -> 25.1.1\n",
      "[notice] To update, run: python.exe -m pip install --upgrade pip\n"
     ]
    }
   ],
   "source": [
    "!pip install svgling"
   ]
  },
  {
   "cell_type": "code",
   "execution_count": null,
   "id": "f0786a1b-e6ab-4674-a778-83da74855e74",
   "metadata": {},
   "outputs": [],
   "source": [
    "nltk.ne_chunk(tag_elements).draw()"
   ]
  }
 ],
 "metadata": {
  "kernelspec": {
   "display_name": "Python 3 (ipykernel)",
   "language": "python",
   "name": "python3"
  },
  "language_info": {
   "codemirror_mode": {
    "name": "ipython",
    "version": 3
   },
   "file_extension": ".py",
   "mimetype": "text/x-python",
   "name": "python",
   "nbconvert_exporter": "python",
   "pygments_lexer": "ipython3",
   "version": "3.13.1"
  }
 },
 "nbformat": 4,
 "nbformat_minor": 5
}
