{
 "cells": [
  {
   "cell_type": "code",
   "execution_count": 1,
   "id": "1ded39ac-ea47-45dd-a688-598c370d56b6",
   "metadata": {},
   "outputs": [],
   "source": [
    "# Speech of Dr. APJ Abdul Kalam\n",
    "paragraph = \"\"\"\"I have three visions for India. In 3000 years of our history, people from all over the world \n",
    "        have come and invaded us, captured our lands, conquered our minds. Yet, we have not conquered anyone.\n",
    "        I have three visions for India:\n",
    "        1. Freedom: My first vision is that of freedom. India got its first vision of this in 1857 when we started \n",
    "        the War of Independence. That was the first time we realized that we were a nation. We have not been united \n",
    "        for thousands of years, because we were ruled.\n",
    "        2. Development: My second vision for India is development. For fifty years we have been a developing nation. \n",
    "        It is time we see ourselves as a developed nation. We are among the top 5 nations in the world in terms of GDP.\n",
    "        Yet we lack self-confidence.\n",
    "        3. India must stand up to the world. Unless India stands up to the world, no one will respect us. Only strength\n",
    "        respects strength. We must be strong not only as a military power but also as an economic power.\n",
    "        I believe that unless we stand up to our own vision and act, we will always remain a developing nation.\"\"\""
   ]
  },
  {
   "cell_type": "code",
   "execution_count": 2,
   "id": "b4b1e107-9833-45de-8f79-f62068110fed",
   "metadata": {},
   "outputs": [],
   "source": [
    "import nltk"
   ]
  },
  {
   "cell_type": "code",
   "execution_count": 3,
   "id": "952a67a7-23a2-4ba5-92a2-fea5a0f15650",
   "metadata": {},
   "outputs": [],
   "source": [
    "sentences = nltk.sent_tokenize(paragraph)"
   ]
  },
  {
   "cell_type": "code",
   "execution_count": 4,
   "id": "aabb3eae-d4a9-4873-a78c-1168bcab5a07",
   "metadata": {},
   "outputs": [
    {
     "data": {
      "text/plain": [
       "['\"I have three visions for India.',\n",
       " 'In 3000 years of our history, people from all over the world \\n        have come and invaded us, captured our lands, conquered our minds.',\n",
       " 'Yet, we have not conquered anyone.',\n",
       " 'I have three visions for India:\\n        1.',\n",
       " 'Freedom: My first vision is that of freedom.',\n",
       " 'India got its first vision of this in 1857 when we started \\n        the War of Independence.',\n",
       " 'That was the first time we realized that we were a nation.',\n",
       " 'We have not been united \\n        for thousands of years, because we were ruled.',\n",
       " '2.',\n",
       " 'Development: My second vision for India is development.',\n",
       " 'For fifty years we have been a developing nation.',\n",
       " 'It is time we see ourselves as a developed nation.',\n",
       " 'We are among the top 5 nations in the world in terms of GDP.',\n",
       " 'Yet we lack self-confidence.',\n",
       " '3.',\n",
       " 'India must stand up to the world.',\n",
       " 'Unless India stands up to the world, no one will respect us.',\n",
       " 'Only strength\\n        respects strength.',\n",
       " 'We must be strong not only as a military power but also as an economic power.',\n",
       " 'I believe that unless we stand up to our own vision and act, we will always remain a developing nation.']"
      ]
     },
     "execution_count": 4,
     "metadata": {},
     "output_type": "execute_result"
    }
   ],
   "source": [
    "sentences"
   ]
  },
  {
   "cell_type": "code",
   "execution_count": 8,
   "id": "a6923c47-f39f-4308-b125-70efb9851fce",
   "metadata": {},
   "outputs": [
    {
     "name": "stderr",
     "output_type": "stream",
     "text": [
      "[nltk_data] Downloading package averaged_perceptron_tagger_eng to\n",
      "[nltk_data]     C:\\Users\\Lenovo\\AppData\\Roaming\\nltk_data...\n",
      "[nltk_data]   Unzipping taggers\\averaged_perceptron_tagger_eng.zip.\n"
     ]
    },
    {
     "data": {
      "text/plain": [
       "True"
      ]
     },
     "execution_count": 8,
     "metadata": {},
     "output_type": "execute_result"
    }
   ],
   "source": [
    "from nltk.corpus import stopwords\n",
    "nltk.download('averaged_perceptron_tagger_eng')"
   ]
  },
  {
   "cell_type": "code",
   "execution_count": 9,
   "id": "a05bbcb2-8764-4ba5-9e3f-1efe603c5dc3",
   "metadata": {},
   "outputs": [
    {
     "name": "stdout",
     "output_type": "stream",
     "text": [
      "[('``', '``'), ('I', 'PRP'), ('three', 'CD'), ('visions', 'NNS'), ('India', 'NNP'), ('.', '.')]\n",
      "[('In', 'IN'), ('3000', 'CD'), ('years', 'NNS'), ('history', 'NN'), (',', ','), ('people', 'NNS'), ('world', 'NN'), ('come', 'VBP'), ('invaded', 'VBN'), ('us', 'PRP'), (',', ','), ('captured', 'VBD'), ('lands', 'NNS'), (',', ','), ('conquered', 'VBD'), ('minds', 'NNS'), ('.', '.')]\n",
      "[('Yet', 'RB'), (',', ','), ('conquered', 'VBD'), ('anyone', 'NN'), ('.', '.')]\n",
      "[('I', 'PRP'), ('three', 'CD'), ('visions', 'NNS'), ('India', 'NNP'), (':', ':'), ('1', 'CD'), ('.', '.')]\n",
      "[('Freedom', 'NN'), (':', ':'), ('My', 'PRP$'), ('first', 'JJ'), ('vision', 'NN'), ('freedom', 'NN'), ('.', '.')]\n",
      "[('India', 'NNP'), ('got', 'VBD'), ('first', 'JJ'), ('vision', 'NN'), ('1857', 'CD'), ('started', 'VBD'), ('War', 'NNP'), ('Independence', 'NNP'), ('.', '.')]\n",
      "[('That', 'DT'), ('first', 'JJ'), ('time', 'NN'), ('realized', 'VBN'), ('nation', 'NN'), ('.', '.')]\n",
      "[('We', 'PRP'), ('united', 'VBD'), ('thousands', 'NNS'), ('years', 'NNS'), (',', ','), ('ruled', 'VBD'), ('.', '.')]\n",
      "[('2', 'CD'), ('.', '.')]\n",
      "[('Development', 'NNP'), (':', ':'), ('My', 'PRP$'), ('second', 'JJ'), ('vision', 'NN'), ('India', 'NNP'), ('development', 'NN'), ('.', '.')]\n",
      "[('For', 'IN'), ('fifty', 'JJ'), ('years', 'NNS'), ('developing', 'VBG'), ('nation', 'NN'), ('.', '.')]\n",
      "[('It', 'PRP'), ('time', 'NN'), ('see', 'VB'), ('developed', 'JJ'), ('nation', 'NN'), ('.', '.')]\n",
      "[('We', 'PRP'), ('among', 'IN'), ('top', 'JJ'), ('5', 'CD'), ('nations', 'NNS'), ('world', 'NN'), ('terms', 'NNS'), ('GDP', 'NNP'), ('.', '.')]\n",
      "[('Yet', 'RB'), ('lack', 'JJ'), ('self-confidence', 'NN'), ('.', '.')]\n",
      "[('3', 'CD'), ('.', '.')]\n",
      "[('India', 'NNP'), ('must', 'MD'), ('stand', 'VB'), ('world', 'NN'), ('.', '.')]\n",
      "[('Unless', 'IN'), ('India', 'NNP'), ('stands', 'VBZ'), ('world', 'NN'), (',', ','), ('one', 'CD'), ('respect', 'NN'), ('us', 'PRP'), ('.', '.')]\n",
      "[('Only', 'RB'), ('strength', 'NN'), ('respects', 'NNS'), ('strength', 'NN'), ('.', '.')]\n",
      "[('We', 'PRP'), ('must', 'MD'), ('strong', 'JJ'), ('military', 'JJ'), ('power', 'NN'), ('also', 'RB'), ('economic', 'JJ'), ('power', 'NN'), ('.', '.')]\n",
      "[('I', 'PRP'), ('believe', 'VBP'), ('unless', 'IN'), ('stand', 'VBP'), ('vision', 'NN'), ('act', 'NN'), (',', ','), ('always', 'RB'), ('remain', 'VBP'), ('developing', 'JJ'), ('nation', 'NN'), ('.', '.')]\n"
     ]
    }
   ],
   "source": [
    "for i in range(len(sentences)):\n",
    "    words = nltk.word_tokenize(sentences[i])\n",
    "    words = [word for word in words if word not in set(stopwords.words('english'))]\n",
    "    pos_tag = nltk.pos_tag(words)\n",
    "    print(pos_tag)"
   ]
  },
  {
   "cell_type": "code",
   "execution_count": 10,
   "id": "9bff4df2-264e-48b4-ba2e-15345f615859",
   "metadata": {},
   "outputs": [
    {
     "name": "stdout",
     "output_type": "stream",
     "text": [
      "[('Taj', 'NNP'), ('Mahal', 'NNP'), ('is', 'VBZ'), ('a', 'DT'), ('Beautiful', 'JJ'), ('Monument', 'NN')]\n"
     ]
    }
   ],
   "source": [
    "print(nltk.pos_tag(\"Taj Mahal is a Beautiful Monument\".split()))"
   ]
  }
 ],
 "metadata": {
  "kernelspec": {
   "display_name": "Python 3 (ipykernel)",
   "language": "python",
   "name": "python3"
  },
  "language_info": {
   "codemirror_mode": {
    "name": "ipython",
    "version": 3
   },
   "file_extension": ".py",
   "mimetype": "text/x-python",
   "name": "python",
   "nbconvert_exporter": "python",
   "pygments_lexer": "ipython3",
   "version": "3.13.1"
  }
 },
 "nbformat": 4,
 "nbformat_minor": 5
}
